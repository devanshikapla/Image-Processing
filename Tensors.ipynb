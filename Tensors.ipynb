{
  "nbformat": 4,
  "nbformat_minor": 0,
  "metadata": {
    "colab": {
      "provenance": []
    },
    "kernelspec": {
      "name": "python3",
      "display_name": "Python 3"
    },
    "language_info": {
      "name": "python"
    }
  },
  "cells": [
    {
      "cell_type": "code",
      "execution_count": 1,
      "metadata": {
        "id": "rHX3SPWTAA5k"
      },
      "outputs": [],
      "source": [
        "import tensorflow as tf"
      ]
    },
    {
      "cell_type": "code",
      "source": [
        "tensor_zero_d = tf.constant(4)\n",
        "# the above code will print a 0 dim tensor\n",
        "print(tensor_zero_d)"
      ],
      "metadata": {
        "colab": {
          "base_uri": "https://localhost:8080/"
        },
        "id": "PiR7YXdVEUq2",
        "outputId": "bbb19513-81bc-4175-d2c7-d2ed99fb984b"
      },
      "execution_count": null,
      "outputs": [
        {
          "output_type": "stream",
          "name": "stdout",
          "text": [
            "tf.Tensor(4, shape=(), dtype=int32)\n"
          ]
        }
      ]
    },
    {
      "cell_type": "code",
      "source": [
        "tensor_one_d = tf.constant([2,9,9])\n",
        "print(tensor_one_d)"
      ],
      "metadata": {
        "colab": {
          "base_uri": "https://localhost:8080/"
        },
        "id": "MabCN-j7EgkC",
        "outputId": "b79f2cb8-3a4c-4b77-ed69-48d0a628af95"
      },
      "execution_count": null,
      "outputs": [
        {
          "output_type": "stream",
          "name": "stdout",
          "text": [
            "tf.Tensor([2 9 9], shape=(3,), dtype=int32)\n"
          ]
        }
      ]
    },
    {
      "cell_type": "code",
      "source": [
        "tensor_two_d = tf.constant([\n",
        "    [1,2,0],\n",
        "    [2,3,4],\n",
        "    [9,0,1]\n",
        "])\n",
        "print(tensor_two_d)"
      ],
      "metadata": {
        "colab": {
          "base_uri": "https://localhost:8080/"
        },
        "id": "ULFeMgewErXr",
        "outputId": "d6b80db4-6a86-4c8c-9736-04826716fbd0"
      },
      "execution_count": null,
      "outputs": [
        {
          "output_type": "stream",
          "name": "stdout",
          "text": [
            "tf.Tensor(\n",
            "[[1 2 0]\n",
            " [2 3 4]\n",
            " [9 0 1]], shape=(3, 3), dtype=int32)\n"
          ]
        }
      ]
    },
    {
      "cell_type": "code",
      "source": [
        "print(tensor_two_d.ndim)"
      ],
      "metadata": {
        "colab": {
          "base_uri": "https://localhost:8080/"
        },
        "id": "QHGAIXDXE80F",
        "outputId": "8c8c85d3-debe-4830-fd1e-774177cad23b"
      },
      "execution_count": null,
      "outputs": [
        {
          "output_type": "stream",
          "name": "stdout",
          "text": [
            "2\n"
          ]
        }
      ]
    },
    {
      "cell_type": "code",
      "source": [
        "tensor_one_d = tf.constant([2,9,9] , dtype=tf.float16)\n",
        "print(tensor_one_d)"
      ],
      "metadata": {
        "colab": {
          "base_uri": "https://localhost:8080/"
        },
        "id": "YWGonROYE0b5",
        "outputId": "4ad4ec4a-d6c9-4982-89fc-619b943e3288"
      },
      "execution_count": null,
      "outputs": [
        {
          "output_type": "stream",
          "name": "stdout",
          "text": [
            "tf.Tensor([2. 9. 9.], shape=(3,), dtype=float16)\n"
          ]
        }
      ]
    },
    {
      "cell_type": "code",
      "source": [
        "tensor_one_d = tf.constant([2,9,9] , dtype=tf.float64)\n",
        "casted_tensor_one_d = tf.cast(tensor_one_d , dtype = tf.int16)\n",
        "print(casted_tensor_one_d)\n",
        "print(tensor_one_d)"
      ],
      "metadata": {
        "colab": {
          "base_uri": "https://localhost:8080/"
        },
        "id": "qorY2WdvIMrd",
        "outputId": "9f9b90fb-9678-47c3-f978-3fe03c20d64d"
      },
      "execution_count": null,
      "outputs": [
        {
          "output_type": "stream",
          "name": "stdout",
          "text": [
            "tf.Tensor([2 9 9], shape=(3,), dtype=int16)\n",
            "tf.Tensor([2. 9. 9.], shape=(3,), dtype=float64)\n"
          ]
        }
      ]
    },
    {
      "cell_type": "code",
      "source": [
        "casted_tensor_bool = tf.cast(tensor_one_d , dtype = tf.bool)\n",
        "print(casted_tensor_bool)"
      ],
      "metadata": {
        "colab": {
          "base_uri": "https://localhost:8080/"
        },
        "id": "2pbGsiEmJGBu",
        "outputId": "5ee9dc5e-43bb-4fef-9caa-ff4f6273d7f6"
      },
      "execution_count": null,
      "outputs": [
        {
          "output_type": "stream",
          "name": "stdout",
          "text": [
            "tf.Tensor([ True  True  True], shape=(3,), dtype=bool)\n"
          ]
        }
      ]
    },
    {
      "cell_type": "code",
      "source": [
        "tensor_string =tf.constant(\"hello world\")\n",
        "print(tensor_string)\n"
      ],
      "metadata": {
        "colab": {
          "base_uri": "https://localhost:8080/"
        },
        "id": "I9Pq-jTdJVsl",
        "outputId": "ee1c935c-144a-4d78-9c02-1ac1dfaea8c4"
      },
      "execution_count": null,
      "outputs": [
        {
          "output_type": "stream",
          "name": "stdout",
          "text": [
            "tf.Tensor(b'hello world', shape=(), dtype=string)\n"
          ]
        }
      ]
    },
    {
      "cell_type": "code",
      "source": [
        "tensor_string =tf.constant([\"hello world\" , \"hi\" ])\n",
        "print(tensor_string)\n"
      ],
      "metadata": {
        "colab": {
          "base_uri": "https://localhost:8080/"
        },
        "id": "_aU2giUeJmLh",
        "outputId": "7c41eace-9801-485c-e71c-23dd6e091ae0"
      },
      "execution_count": null,
      "outputs": [
        {
          "output_type": "stream",
          "name": "stdout",
          "text": [
            "tf.Tensor([b'hello world' b'hi'], shape=(2,), dtype=string)\n"
          ]
        }
      ]
    },
    {
      "cell_type": "code",
      "source": [
        "import numpy as np"
      ],
      "metadata": {
        "id": "GpZDVr5OJrn8"
      },
      "execution_count": null,
      "outputs": []
    },
    {
      "cell_type": "code",
      "source": [
        "npArray = np.array([1,2,2])\n",
        "print(npArray);"
      ],
      "metadata": {
        "colab": {
          "base_uri": "https://localhost:8080/"
        },
        "id": "gD8FGl1XJvH6",
        "outputId": "ed37ab04-3bab-457a-9a78-e775072290ad"
      },
      "execution_count": null,
      "outputs": [
        {
          "output_type": "stream",
          "name": "stdout",
          "text": [
            "[1 2 2]\n"
          ]
        }
      ]
    },
    {
      "cell_type": "code",
      "source": [
        "converted_tensor = tf.convert_to_tensor(npArray)\n",
        "print(converted_tensor)"
      ],
      "metadata": {
        "colab": {
          "base_uri": "https://localhost:8080/"
        },
        "id": "ZR9lIBf1J19r",
        "outputId": "fbecf2b6-48b7-4751-8138-229dba4698e7"
      },
      "execution_count": null,
      "outputs": [
        {
          "output_type": "stream",
          "name": "stdout",
          "text": [
            "tf.Tensor([1 2 2], shape=(3,), dtype=int64)\n"
          ]
        }
      ]
    },
    {
      "cell_type": "code",
      "source": [
        "#construct an identity matrix or a batch of matrix\n",
        "\n",
        "eye_tensor = tf.eye(\n",
        "    num_rows = 5,\n",
        "    num_columns = None,\n",
        "    name = None,\n",
        "    batch_shape = None,\n",
        "    dtype = tf.dtypes.float32\n",
        ")\n",
        "print(eye_tensor)"
      ],
      "metadata": {
        "colab": {
          "base_uri": "https://localhost:8080/"
        },
        "id": "nudgW9I-KYIH",
        "outputId": "52142af8-0129-420e-87f8-adf79f308095"
      },
      "execution_count": null,
      "outputs": [
        {
          "output_type": "stream",
          "name": "stdout",
          "text": [
            "tf.Tensor(\n",
            "[[1. 0. 0.]\n",
            " [0. 1. 0.]\n",
            " [0. 0. 1.]\n",
            " [0. 0. 0.]\n",
            " [0. 0. 0.]], shape=(5, 3), dtype=float32)\n"
          ]
        }
      ]
    },
    {
      "cell_type": "code",
      "source": [
        "#construct an identity matrix or a batch of matrix\n",
        "\n",
        "\n",
        "eye_tensor = tf.eye(\n",
        "    num_rows = 5,\n",
        "    num_columns = 3,\n",
        "    name = None,\n",
        "    batch_shape = [3,6] ,\n",
        "    dtype = tf.dtypes.float32\n",
        ")\n",
        "print(eye_tensor)\n"
      ],
      "metadata": {
        "colab": {
          "base_uri": "https://localhost:8080/"
        },
        "id": "fxUDiOJoK7aM",
        "outputId": "b933a64f-106e-4a0b-a7ae-b0b84b3a3bf9"
      },
      "execution_count": null,
      "outputs": [
        {
          "output_type": "stream",
          "name": "stdout",
          "text": [
            "tf.Tensor(\n",
            "[[[[1. 0. 0.]\n",
            "   [0. 1. 0.]\n",
            "   [0. 0. 1.]\n",
            "   [0. 0. 0.]\n",
            "   [0. 0. 0.]]\n",
            "\n",
            "  [[1. 0. 0.]\n",
            "   [0. 1. 0.]\n",
            "   [0. 0. 1.]\n",
            "   [0. 0. 0.]\n",
            "   [0. 0. 0.]]\n",
            "\n",
            "  [[1. 0. 0.]\n",
            "   [0. 1. 0.]\n",
            "   [0. 0. 1.]\n",
            "   [0. 0. 0.]\n",
            "   [0. 0. 0.]]\n",
            "\n",
            "  [[1. 0. 0.]\n",
            "   [0. 1. 0.]\n",
            "   [0. 0. 1.]\n",
            "   [0. 0. 0.]\n",
            "   [0. 0. 0.]]\n",
            "\n",
            "  [[1. 0. 0.]\n",
            "   [0. 1. 0.]\n",
            "   [0. 0. 1.]\n",
            "   [0. 0. 0.]\n",
            "   [0. 0. 0.]]\n",
            "\n",
            "  [[1. 0. 0.]\n",
            "   [0. 1. 0.]\n",
            "   [0. 0. 1.]\n",
            "   [0. 0. 0.]\n",
            "   [0. 0. 0.]]]\n",
            "\n",
            "\n",
            " [[[1. 0. 0.]\n",
            "   [0. 1. 0.]\n",
            "   [0. 0. 1.]\n",
            "   [0. 0. 0.]\n",
            "   [0. 0. 0.]]\n",
            "\n",
            "  [[1. 0. 0.]\n",
            "   [0. 1. 0.]\n",
            "   [0. 0. 1.]\n",
            "   [0. 0. 0.]\n",
            "   [0. 0. 0.]]\n",
            "\n",
            "  [[1. 0. 0.]\n",
            "   [0. 1. 0.]\n",
            "   [0. 0. 1.]\n",
            "   [0. 0. 0.]\n",
            "   [0. 0. 0.]]\n",
            "\n",
            "  [[1. 0. 0.]\n",
            "   [0. 1. 0.]\n",
            "   [0. 0. 1.]\n",
            "   [0. 0. 0.]\n",
            "   [0. 0. 0.]]\n",
            "\n",
            "  [[1. 0. 0.]\n",
            "   [0. 1. 0.]\n",
            "   [0. 0. 1.]\n",
            "   [0. 0. 0.]\n",
            "   [0. 0. 0.]]\n",
            "\n",
            "  [[1. 0. 0.]\n",
            "   [0. 1. 0.]\n",
            "   [0. 0. 1.]\n",
            "   [0. 0. 0.]\n",
            "   [0. 0. 0.]]]\n",
            "\n",
            "\n",
            " [[[1. 0. 0.]\n",
            "   [0. 1. 0.]\n",
            "   [0. 0. 1.]\n",
            "   [0. 0. 0.]\n",
            "   [0. 0. 0.]]\n",
            "\n",
            "  [[1. 0. 0.]\n",
            "   [0. 1. 0.]\n",
            "   [0. 0. 1.]\n",
            "   [0. 0. 0.]\n",
            "   [0. 0. 0.]]\n",
            "\n",
            "  [[1. 0. 0.]\n",
            "   [0. 1. 0.]\n",
            "   [0. 0. 1.]\n",
            "   [0. 0. 0.]\n",
            "   [0. 0. 0.]]\n",
            "\n",
            "  [[1. 0. 0.]\n",
            "   [0. 1. 0.]\n",
            "   [0. 0. 1.]\n",
            "   [0. 0. 0.]\n",
            "   [0. 0. 0.]]\n",
            "\n",
            "  [[1. 0. 0.]\n",
            "   [0. 1. 0.]\n",
            "   [0. 0. 1.]\n",
            "   [0. 0. 0.]\n",
            "   [0. 0. 0.]]\n",
            "\n",
            "  [[1. 0. 0.]\n",
            "   [0. 1. 0.]\n",
            "   [0. 0. 1.]\n",
            "   [0. 0. 0.]\n",
            "   [0. 0. 0.]]]], shape=(3, 6, 5, 3), dtype=float32)\n"
          ]
        }
      ]
    },
    {
      "cell_type": "code",
      "source": [
        "#fill creates a tensor with a filled scaler value\n",
        "fill_tensor = tf.fill(\n",
        "    [1,3,5] , 0 , name=None\n",
        ")\n",
        "print(fill_tensor)"
      ],
      "metadata": {
        "colab": {
          "base_uri": "https://localhost:8080/"
        },
        "id": "E5i88UEeLivo",
        "outputId": "174efaaa-a3d7-4a04-9800-2f1309eb18db"
      },
      "execution_count": null,
      "outputs": [
        {
          "output_type": "stream",
          "name": "stdout",
          "text": [
            "tf.Tensor(\n",
            "[[[0 0 0 0 0]\n",
            "  [0 0 0 0 0]\n",
            "  [0 0 0 0 0]]], shape=(1, 3, 5), dtype=int32)\n"
          ]
        }
      ]
    },
    {
      "cell_type": "code",
      "source": [
        "#creates a tensor of all ones that have the same shape as the input\n",
        "ones_like_tensor = tf.ones_like(\n",
        "    fill_tensor\n",
        ")\n",
        "print(ones_like_tensor)"
      ],
      "metadata": {
        "colab": {
          "base_uri": "https://localhost:8080/"
        },
        "id": "6ppukms7MMPY",
        "outputId": "b8cc5501-46c1-49e7-ec46-b72f0e2903cd"
      },
      "execution_count": null,
      "outputs": [
        {
          "output_type": "stream",
          "name": "stdout",
          "text": [
            "tf.Tensor(\n",
            "[[[1 1 1 1 1]\n",
            "  [1 1 1 1 1]\n",
            "  [1 1 1 1 1]]], shape=(1, 3, 5), dtype=int32)\n"
          ]
        }
      ]
    },
    {
      "cell_type": "code",
      "source": [
        "print(tensor_two_d.shape)"
      ],
      "metadata": {
        "colab": {
          "base_uri": "https://localhost:8080/"
        },
        "id": "_4ksYuZoM-3-",
        "outputId": "b45135f5-2b3a-4d21-aaac-7e5756ddd66d"
      },
      "execution_count": null,
      "outputs": [
        {
          "output_type": "stream",
          "name": "stdout",
          "text": [
            "(3, 3)\n"
          ]
        }
      ]
    },
    {
      "cell_type": "code",
      "source": [
        "# return the rank of tensor\n",
        "tensor_two_rank = tf.rank(tensor_two_d)\n",
        "print(tensor_two_rank)"
      ],
      "metadata": {
        "colab": {
          "base_uri": "https://localhost:8080/"
        },
        "id": "AXrTtmjSOtiI",
        "outputId": "ff3f0d2b-a966-4971-b3cf-251c979d6f9c"
      },
      "execution_count": null,
      "outputs": [
        {
          "output_type": "stream",
          "name": "stdout",
          "text": [
            "tf.Tensor(2, shape=(), dtype=int32)\n"
          ]
        }
      ]
    },
    {
      "cell_type": "code",
      "source": [
        "#creating random value tensor\n",
        "random_tensor = tf.random.normal(\n",
        "    [3,2],\n",
        "    mean = 1000000.0,\n",
        "    stddev = 9992029202021.0,\n",
        "    dtype = tf.dtypes.float32,\n",
        "    seed = None,\n",
        "    name = None\n",
        ")\n",
        "print(random_tensor)"
      ],
      "metadata": {
        "colab": {
          "base_uri": "https://localhost:8080/"
        },
        "id": "aOk1PrPXOt9t",
        "outputId": "258b6659-76af-47cf-c202-e4e18c8ed97f"
      },
      "execution_count": null,
      "outputs": [
        {
          "output_type": "stream",
          "name": "stdout",
          "text": [
            "tf.Tensor(\n",
            "[[-8.9495647e+12 -2.0743484e+12]\n",
            " [ 5.5911991e+12 -1.8037969e+12]\n",
            " [-1.4125043e+13  8.6833192e+12]], shape=(3, 2), dtype=float32)\n"
          ]
        }
      ]
    },
    {
      "cell_type": "code",
      "source": [
        "#to produce reproducable tensor we need to set up globally seed value and a seed value in a uniform tensor\n",
        "tf.random.set_seed(5)\n",
        "print(tf.random.uniform(shape=[3,] , maxval = 3 , dtype=tf.int32 , seed=10))\n"
      ],
      "metadata": {
        "id": "2s5a7q6DOuCI",
        "colab": {
          "base_uri": "https://localhost:8080/"
        },
        "outputId": "ab170476-e18c-40a8-d1a2-7834eb0f36ce"
      },
      "execution_count": null,
      "outputs": [
        {
          "output_type": "stream",
          "name": "stdout",
          "text": [
            "tf.Tensor([2 0 1], shape=(3,), dtype=int32)\n"
          ]
        }
      ]
    },
    {
      "cell_type": "code",
      "source": [
        "#tensor indexing\n",
        "tensor_indexed = tf.constant([3,2,4,5,3,2])\n",
        "print(tensor_indexed)"
      ],
      "metadata": {
        "id": "x0S4j9LeOuGD",
        "colab": {
          "base_uri": "https://localhost:8080/"
        },
        "outputId": "3d93e29c-f830-4928-b99f-0ead741c21f2"
      },
      "execution_count": null,
      "outputs": [
        {
          "output_type": "stream",
          "name": "stdout",
          "text": [
            "tf.Tensor([3 2 4 5 3 2], shape=(6,), dtype=int32)\n"
          ]
        }
      ]
    },
    {
      "cell_type": "code",
      "source": [
        "#to get first four element out of the above tensor\n",
        "print(tensor_indexed[0 : 4])\n",
        "print(tensor_indexed[1 : 5])"
      ],
      "metadata": {
        "id": "5keEuH_5OuKv",
        "colab": {
          "base_uri": "https://localhost:8080/"
        },
        "outputId": "fa262921-3dcd-4103-b2f9-39b8b6cea889"
      },
      "execution_count": null,
      "outputs": [
        {
          "output_type": "stream",
          "name": "stdout",
          "text": [
            "tf.Tensor([3 2 4 5], shape=(4,), dtype=int32)\n",
            "tf.Tensor([2 4 5 3], shape=(4,), dtype=int32)\n"
          ]
        }
      ]
    },
    {
      "cell_type": "code",
      "source": [
        "x1 = tf.constant([[5,3,6,6,4,6]] , dtype = tf.float32)\n",
        "x2 = tf.constant([[7] , [5] , [3]] , dtype = tf.float32)\n",
        "print(x1.shape)\n",
        "print(x2.shape)\n",
        "print(tf.math.multiply(x1 , x2))"
      ],
      "metadata": {
        "id": "MdF_5bL7OuRf",
        "colab": {
          "base_uri": "https://localhost:8080/"
        },
        "outputId": "6eaffc79-75e8-495a-b76a-dccd5dd11045"
      },
      "execution_count": null,
      "outputs": [
        {
          "output_type": "stream",
          "name": "stdout",
          "text": [
            "(1, 6)\n",
            "(3, 1)\n",
            "tf.Tensor(\n",
            "[[35. 21. 42. 42. 28. 42.]\n",
            " [25. 15. 30. 30. 20. 30.]\n",
            " [15.  9. 18. 18. 12. 18.]], shape=(3, 6), dtype=float32)\n"
          ]
        }
      ]
    },
    {
      "cell_type": "code",
      "source": [
        "#tf.math.argmax will give max of two tensor and tf.math.argmin will give minimum of two tensors\n",
        "x = tf.constant([[2,29,39] , [3,11,16] , [14,45,23]])\n",
        "print(tf.math.argmax(x))\n",
        "y = tf.constant([1,45,32])\n",
        "print(tf.math.argmax(y))"
      ],
      "metadata": {
        "id": "2g06cFTYOuVI",
        "colab": {
          "base_uri": "https://localhost:8080/"
        },
        "outputId": "73ee859a-3d09-40ef-d2ec-69f455d5da90"
      },
      "execution_count": null,
      "outputs": [
        {
          "output_type": "stream",
          "name": "stdout",
          "text": [
            "tf.Tensor([2 2 0], shape=(3,), dtype=int64)\n",
            "tf.Tensor(1, shape=(), dtype=int64)\n"
          ]
        }
      ]
    },
    {
      "cell_type": "code",
      "source": [
        "z = tf.constant([0,2,1])\n",
        "print(tf.math.argmax(z))"
      ],
      "metadata": {
        "id": "ixQ1t6xuOuYg",
        "colab": {
          "base_uri": "https://localhost:8080/"
        },
        "outputId": "c0c1b543-41ab-4987-e45f-c8e47d359309"
      },
      "execution_count": null,
      "outputs": [
        {
          "output_type": "stream",
          "name": "stdout",
          "text": [
            "tf.Tensor(1, shape=(), dtype=int64)\n"
          ]
        }
      ]
    },
    {
      "cell_type": "code",
      "source": [
        "print(tf.math.argmax(x , 0))\n",
        "print(tf.math.argmin(x))"
      ],
      "metadata": {
        "id": "7UxBWyHCOucJ",
        "colab": {
          "base_uri": "https://localhost:8080/"
        },
        "outputId": "bd3cb782-5d68-46b5-ff29-6e2c53607c86"
      },
      "execution_count": null,
      "outputs": [
        {
          "output_type": "stream",
          "name": "stdout",
          "text": [
            "tf.Tensor([2 2 0], shape=(3,), dtype=int64)\n",
            "tf.Tensor([0 1 1], shape=(3,), dtype=int64)\n"
          ]
        }
      ]
    },
    {
      "cell_type": "code",
      "source": [
        "#equal will check whether the tensors are equal or not\n",
        "print(tf.math.equal(y , z))"
      ],
      "metadata": {
        "id": "1pCxDoFaOugU",
        "colab": {
          "base_uri": "https://localhost:8080/"
        },
        "outputId": "e7c12494-cdcd-4afc-c627-cddf9a706e5c"
      },
      "execution_count": null,
      "outputs": [
        {
          "output_type": "stream",
          "name": "stdout",
          "text": [
            "tf.Tensor([False False False], shape=(3,), dtype=bool)\n"
          ]
        }
      ]
    },
    {
      "cell_type": "code",
      "source": [
        "#pow\n",
        "a = tf.constant(2)\n",
        "b = tf.constant(3)\n",
        "print(tf.pow(a , b))"
      ],
      "metadata": {
        "colab": {
          "base_uri": "https://localhost:8080/"
        },
        "id": "I96aNVBTTL1V",
        "outputId": "7effa0b9-ae66-4441-a499-e12d509c38b0"
      },
      "execution_count": null,
      "outputs": [
        {
          "output_type": "stream",
          "name": "stdout",
          "text": [
            "tf.Tensor(8, shape=(), dtype=int32)\n"
          ]
        }
      ]
    },
    {
      "cell_type": "code",
      "source": [
        "#find the mean\n",
        "print(tf.math.reduce_mean(x , axis = 0 , keepdims = False , name = None))"
      ],
      "metadata": {
        "colab": {
          "base_uri": "https://localhost:8080/"
        },
        "id": "O_CYtryZTL5O",
        "outputId": "a9d7131c-f69a-4412-bca6-6cf326c2595c"
      },
      "execution_count": null,
      "outputs": [
        {
          "output_type": "stream",
          "name": "stdout",
          "text": [
            "tf.Tensor([ 6 28 26], shape=(3,), dtype=int32)\n"
          ]
        }
      ]
    },
    {
      "cell_type": "code",
      "source": [
        "#sigmoid function\n",
        "tf.math.top_k(x)\n",
        "#the second part gives indexes of the array\n",
        "# by default it is sorted"
      ],
      "metadata": {
        "colab": {
          "base_uri": "https://localhost:8080/"
        },
        "id": "nzWofFxqTL8l",
        "outputId": "d5e366e0-dc68-4e24-9f3b-9df8576c3b46"
      },
      "execution_count": null,
      "outputs": [
        {
          "output_type": "execute_result",
          "data": {
            "text/plain": [
              "TopKV2(values=<tf.Tensor: shape=(3, 1), dtype=int32, numpy=\n",
              "array([[39],\n",
              "       [16],\n",
              "       [45]], dtype=int32)>, indices=<tf.Tensor: shape=(3, 1), dtype=int32, numpy=\n",
              "array([[2],\n",
              "       [2],\n",
              "       [1]], dtype=int32)>)"
            ]
          },
          "metadata": {},
          "execution_count": 19
        }
      ]
    },
    {
      "cell_type": "code",
      "source": [
        "#linear algebra\n",
        "#matmul multiples mat a by b\n",
        "#total columns in matrix 1 should be equal to total rows in matrix 2\n",
        "x1 = tf.constant([\n",
        "    [1,4,5],\n",
        "    [4,5,3],\n",
        "    [4,3,2]\n",
        "])\n",
        "x2 = tf.constant([\n",
        "    [1,1,5],\n",
        "    [4,5,3],\n",
        "    [4,3,2]\n",
        "])\n",
        "tf.linalg.matmul(\n",
        "    x1,\n",
        "    x2,\n",
        "    transpose_a=False,\n",
        "    transpose_b=False,\n",
        "    adjoint_a=False,\n",
        "    adjoint_b=False,\n",
        "    a_is_sparse=False,\n",
        "    b_is_sparse=False,\n",
        "    output_type=None,\n",
        "    name=None\n",
        ")\n",
        "#sparse sometimes there are matrices which have mostly zeros, tensorflow has a way to optimize those tensors . These tensors are called sparse tensors\n",
        "#"
      ],
      "metadata": {
        "colab": {
          "base_uri": "https://localhost:8080/"
        },
        "id": "D0szuLvmTL_t",
        "outputId": "113e1340-11e9-42f6-ea97-291630371c32"
      },
      "execution_count": null,
      "outputs": [
        {
          "output_type": "execute_result",
          "data": {
            "text/plain": [
              "<tf.Tensor: shape=(3, 3), dtype=int32, numpy=\n",
              "array([[37, 36, 27],\n",
              "       [36, 38, 41],\n",
              "       [24, 25, 33]], dtype=int32)>"
            ]
          },
          "metadata": {},
          "execution_count": 26
        }
      ]
    },
    {
      "cell_type": "code",
      "source": [
        "print(x1@x2) # this is also another way to multiply matrixes"
      ],
      "metadata": {
        "colab": {
          "base_uri": "https://localhost:8080/"
        },
        "id": "fD9LHC3tTMC0",
        "outputId": "b00aca86-fecd-4cd4-c5f3-ebf2b584e9d5"
      },
      "execution_count": null,
      "outputs": [
        {
          "output_type": "stream",
          "name": "stdout",
          "text": [
            "tf.Tensor(\n",
            "[[37 36 27]\n",
            " [36 38 41]\n",
            " [24 25 33]], shape=(3, 3), dtype=int32)\n"
          ]
        }
      ]
    },
    {
      "cell_type": "code",
      "source": [
        "#transpose\n",
        "print(tf.transpose(x1))"
      ],
      "metadata": {
        "colab": {
          "base_uri": "https://localhost:8080/"
        },
        "id": "OP4dP2YXTMGg",
        "outputId": "39ccf2c4-6870-4789-8e07-665bbca0734d"
      },
      "execution_count": null,
      "outputs": [
        {
          "output_type": "stream",
          "name": "stdout",
          "text": [
            "tf.Tensor(\n",
            "[[1 4 4]\n",
            " [4 5 3]\n",
            " [5 3 2]], shape=(3, 3), dtype=int32)\n"
          ]
        }
      ]
    },
    {
      "cell_type": "code",
      "source": [
        "print(x1)"
      ],
      "metadata": {
        "colab": {
          "base_uri": "https://localhost:8080/"
        },
        "id": "XWrKJpW8TMJ5",
        "outputId": "3dbad4dc-f720-4c35-83ac-bbfac03f9a83"
      },
      "execution_count": null,
      "outputs": [
        {
          "output_type": "stream",
          "name": "stdout",
          "text": [
            "tf.Tensor(\n",
            "[[1 4 5]\n",
            " [4 5 3]\n",
            " [4 3 2]], shape=(3, 3), dtype=int32)\n"
          ]
        }
      ]
    },
    {
      "cell_type": "code",
      "source": [
        "#band_part\n",
        "#Copy a tensor setting everything outside a central band in each innermost matrix to zero.\n",
        "#lower < 0 or m - n <= lower and upper < 0 or n - m <= upper\n",
        "tensor_two_d = tf.constant([\n",
        "    [1,2,-4],\n",
        "    [4,5,6]\n",
        "]);\n",
        "#m -- rows , n --- columns\n",
        "\n",
        "tf.linalg.band_part(tensor_two_d , 0 , 0)"
      ],
      "metadata": {
        "colab": {
          "base_uri": "https://localhost:8080/"
        },
        "id": "pW451K-FTMNB",
        "outputId": "a5c85b55-611a-4774-83fe-d12b9e626394"
      },
      "execution_count": null,
      "outputs": [
        {
          "output_type": "execute_result",
          "data": {
            "text/plain": [
              "<tf.Tensor: shape=(2, 3), dtype=int32, numpy=\n",
              "array([[1, 0, 0],\n",
              "       [0, 5, 0]], dtype=int32)>"
            ]
          },
          "metadata": {},
          "execution_count": 27
        }
      ]
    },
    {
      "cell_type": "code",
      "source": [
        "#tf.linalg.cross computes cross product\n",
        "#tf.linalg.cholesky computes matrix decomposition\n",
        "#tf.linalg.det computes determinant of the matrix\n",
        "#tf.linalg.inv computes inverse of the matrix and the matrix should be a square matrix\n",
        "#otherwise this will generate an error\n",
        "\n",
        "tensor_two_d = tf.constant([\n",
        "    [1,3],\n",
        "    [4, 5]\n",
        "], dtype = tf.float32)"
      ],
      "metadata": {
        "id": "g0JQ-L3cTMQr"
      },
      "execution_count": 3,
      "outputs": []
    },
    {
      "cell_type": "code",
      "source": [
        "print(tf.linalg.inv(tensor_two_d))"
      ],
      "metadata": {
        "id": "8WAQZv3JTMUS",
        "colab": {
          "base_uri": "https://localhost:8080/"
        },
        "outputId": "c22d8c2a-2680-4adb-8271-438130189594"
      },
      "execution_count": null,
      "outputs": [
        {
          "output_type": "stream",
          "name": "stdout",
          "text": [
            "tf.Tensor(\n",
            "[[-0.71428573  0.42857143]\n",
            " [ 0.5714286  -0.14285715]], shape=(2, 2), dtype=float32)\n"
          ]
        }
      ]
    },
    {
      "cell_type": "code",
      "source": [
        "#on multiplying tf.linalg.inv matrix as depicted in above cell and tensor_two_d you can get the identity matrix.\n",
        "#accepted data types are float64 , flotat32.half\n",
        "#tf.linalg.svd will compute svd decomposition of a tensor\n",
        "\n",
        "print(tf.linalg.svd(tensor_two_d))"
      ],
      "metadata": {
        "id": "kjoQ87YuTMYc",
        "colab": {
          "base_uri": "https://localhost:8080/"
        },
        "outputId": "90425ab7-6ec5-4d6f-f643-f28563a94b7c"
      },
      "execution_count": 4,
      "outputs": [
        {
          "output_type": "stream",
          "name": "stdout",
          "text": [
            "(<tf.Tensor: shape=(2,), dtype=float32, numpy=array([7.07251   , 0.98974764], dtype=float32)>, <tf.Tensor: shape=(2, 2), dtype=float32, numpy=\n",
            "array([[ 0.4288783 , -0.90336215],\n",
            "       [ 0.90336215,  0.4288783 ]], dtype=float32)>, <tf.Tensor: shape=(2, 2), dtype=float32, numpy=\n",
            "array([[ 0.57155484,  0.82056385],\n",
            "       [ 0.82056385, -0.57155484]], dtype=float32)>)\n"
          ]
        }
      ]
    },
    {
      "cell_type": "code",
      "source": [
        "#Returns the sum of the elements of the diagonal of the input 2-D matrix.\n",
        "print(tf.linalg.trace(tensor_two_d))"
      ],
      "metadata": {
        "id": "xl4IOe_TTMcF",
        "colab": {
          "base_uri": "https://localhost:8080/"
        },
        "outputId": "e8966cba-bbeb-4d1a-d4a3-5728a942f6b4"
      },
      "execution_count": 5,
      "outputs": [
        {
          "output_type": "stream",
          "name": "stdout",
          "text": [
            "tf.Tensor(6.0, shape=(), dtype=float32)\n"
          ]
        }
      ]
    },
    {
      "cell_type": "code",
      "source": [
        "import numpy as np"
      ],
      "metadata": {
        "id": "0JitTFH8Trz8"
      },
      "execution_count": 6,
      "outputs": []
    },
    {
      "cell_type": "code",
      "source": [
        "A = np.array([\n",
        "    [1,2,3],\n",
        "    [3,4,5]\n",
        "])\n",
        "B = np.array([\n",
        "    [3,4],\n",
        "    [2,4],\n",
        "    [6,7]\n",
        "])\n",
        "print(A.shape)\n",
        "print(B.shape)\n",
        "print(np.matmul(A, B))"
      ],
      "metadata": {
        "colab": {
          "base_uri": "https://localhost:8080/"
        },
        "id": "bzCe4O00Tr5W",
        "outputId": "3f39b13b-deeb-49d9-b33a-8b09c60b3531"
      },
      "execution_count": 9,
      "outputs": [
        {
          "output_type": "stream",
          "name": "stdout",
          "text": [
            "(2, 3)\n",
            "(3, 2)\n",
            "[[25 33]\n",
            " [47 63]]\n"
          ]
        }
      ]
    },
    {
      "cell_type": "code",
      "source": [
        "#einsum multiply A with B in a particular way to create new array of products; and then maybe\n",
        "#sum this new array along particular axes; and then maybe\n",
        "#transpose the axes of the new array in a particular order.\n",
        "print(\"transpose\")\n",
        "print(A.T)\n",
        "print(\"einsum\")\n",
        "print(np.einsum(\"ij -> ji\" , A))"
      ],
      "metadata": {
        "colab": {
          "base_uri": "https://localhost:8080/"
        },
        "id": "LIBfprzaTr-T",
        "outputId": "65affd25-11b6-4ec7-e79a-d7842128d133"
      },
      "execution_count": 15,
      "outputs": [
        {
          "output_type": "stream",
          "name": "stdout",
          "text": [
            "transpose\n",
            "[[1 3]\n",
            " [2 4]\n",
            " [3 5]]\n",
            "einsum\n",
            "[[1 3]\n",
            " [2 4]\n",
            " [3 5]]\n"
          ]
        }
      ]
    },
    {
      "cell_type": "code",
      "source": [
        "nested_list2 = np.array([[[1, 2, 3, 4], [5, 6, 7, 8], [9, 10, 11, 12]],\n",
        "               [[13, 14, 15, 16], [17, 18, 19, 20], [21, 22, 23, 24]]])"
      ],
      "metadata": {
        "id": "eipjwR9HTsHr"
      },
      "execution_count": 21,
      "outputs": []
    },
    {
      "cell_type": "code",
      "source": [
        "nested_list = np.array([[[1, 2, 3, 4], [5, 6, 7, 8], [9, 10, 11, 12]],\n",
        "               [[13, 14, 15, 16], [17, 18, 19, 20], [21, 22, 23, 24]]])"
      ],
      "metadata": {
        "id": "DeAX7pd6TsCu"
      },
      "execution_count": 18,
      "outputs": []
    },
    {
      "cell_type": "code",
      "source": [
        "print(nested_list2.shape , nested_list.shape)\n",
        "#print(np.matmul(nested_list , nested_list2)) # do adjust the shapes of the matrixes to multiply them\n"
      ],
      "metadata": {
        "colab": {
          "base_uri": "https://localhost:8080/"
        },
        "id": "2przfIrYTsNK",
        "outputId": "a06aa2fa-4041-41cf-a3ad-475dbb61e567"
      },
      "execution_count": 25,
      "outputs": [
        {
          "output_type": "stream",
          "name": "stdout",
          "text": [
            "(2, 3, 4) (2, 3, 4)\n"
          ]
        }
      ]
    },
    {
      "cell_type": "code",
      "source": [
        "#sum up all the elements in the array\n",
        "print(np.sum(nested_list))"
      ],
      "metadata": {
        "id": "Dy0K1lYNTMfv",
        "colab": {
          "base_uri": "https://localhost:8080/"
        },
        "outputId": "2d23c7f0-64a3-44db-b7e5-91b6bb276ff7"
      },
      "execution_count": 26,
      "outputs": [
        {
          "output_type": "stream",
          "name": "stdout",
          "text": [
            "300\n"
          ]
        }
      ]
    },
    {
      "cell_type": "code",
      "source": [
        "#summing using einum operator\n",
        "print(np.einsum(\"bij -> \" , nested_list))"
      ],
      "metadata": {
        "id": "9n23e_DkTMkc",
        "colab": {
          "base_uri": "https://localhost:8080/"
        },
        "outputId": "4d87ee4f-1a29-4647-f5a8-9cf5d0f442fe"
      },
      "execution_count": 28,
      "outputs": [
        {
          "output_type": "stream",
          "name": "stdout",
          "text": [
            "300\n"
          ]
        }
      ]
    },
    {
      "cell_type": "code",
      "source": [
        "#suming up elements in each column\n",
        "#print(np.einsum('ij -> j' , nested_list))\n",
        "#if we write the axis to ij -> i then it will sum the entire row"
      ],
      "metadata": {
        "id": "S5Uv4ewfaECo"
      },
      "execution_count": 31,
      "outputs": []
    },
    {
      "cell_type": "code",
      "source": [
        "Q = batch_size , s_q , model_size\n",
        "K = key_size , s_k, model_size\n"
      ],
      "metadata": {
        "id": "LAdhSNIwaEFa"
      },
      "execution_count": null,
      "outputs": []
    },
    {
      "cell_type": "code",
      "source": [
        "Q = np.random.randn(32,89,90) bqm\n",
        "K = np.random.randn(16,89,90) bkm\n",
        "np.einsum(\"bqm, bkm -> b\" , Q , K).shape"
      ],
      "metadata": {
        "id": "p--h77S4aEIi"
      },
      "execution_count": 32,
      "outputs": []
    },
    {
      "cell_type": "code",
      "source": [
        "#common tensorflow functions\n",
        "x = tf.constant([\n",
        "    1,2,3,4\n",
        "])\n",
        "print(tf.expand_dims(x , axis = 0).shape)"
      ],
      "metadata": {
        "colab": {
          "base_uri": "https://localhost:8080/"
        },
        "id": "a8iWy16PaELq",
        "outputId": "44a1f185-58e7-4fd7-8bbc-fbb2cd7cffa9"
      },
      "execution_count": 37,
      "outputs": [
        {
          "output_type": "stream",
          "name": "stdout",
          "text": [
            "(1, 4)\n"
          ]
        }
      ]
    },
    {
      "cell_type": "code",
      "source": [
        "#squeeze reduces the dimension of the tensor\n",
        "#reshape can also be used to squeeze a tensor\n",
        "\n",
        "x_squeeze = tf.squeeze(tf.expand_dims(x , axis = 0) , axis = 0)\n",
        "print(x_squeeze.shape)"
      ],
      "metadata": {
        "colab": {
          "base_uri": "https://localhost:8080/"
        },
        "id": "C6ahzdWcaEO0",
        "outputId": "0a44ae5c-ad4a-408c-f973-4fc5ef7ff223"
      },
      "execution_count": 40,
      "outputs": [
        {
          "output_type": "stream",
          "name": "stdout",
          "text": [
            "(4,)\n"
          ]
        }
      ]
    },
    {
      "cell_type": "code",
      "source": [
        "#reshape\n",
        "x = tf.constant([\n",
        "    [1,2,3,4],\n",
        "    [5,6,7,8]\n",
        "])\n",
        "tf.reshape(x , [8])"
      ],
      "metadata": {
        "colab": {
          "base_uri": "https://localhost:8080/"
        },
        "id": "7OnBMgdOaESM",
        "outputId": "45c5660c-6e95-424d-e6b6-759efb14b3d1"
      },
      "execution_count": 41,
      "outputs": [
        {
          "output_type": "execute_result",
          "data": {
            "text/plain": [
              "<tf.Tensor: shape=(8,), dtype=int32, numpy=array([1, 2, 3, 4, 5, 6, 7, 8], dtype=int32)>"
            ]
          },
          "metadata": {},
          "execution_count": 41
        }
      ]
    },
    {
      "cell_type": "code",
      "source": [
        "tf.reshape(x , [4,2,1])"
      ],
      "metadata": {
        "colab": {
          "base_uri": "https://localhost:8080/"
        },
        "id": "alIidxwdaEVV",
        "outputId": "47cf0ac6-aaee-4ae2-97f6-1430fa3715a3"
      },
      "execution_count": 42,
      "outputs": [
        {
          "output_type": "execute_result",
          "data": {
            "text/plain": [
              "<tf.Tensor: shape=(4, 2, 1), dtype=int32, numpy=\n",
              "array([[[1],\n",
              "        [2]],\n",
              "\n",
              "       [[3],\n",
              "        [4]],\n",
              "\n",
              "       [[5],\n",
              "        [6]],\n",
              "\n",
              "       [[7],\n",
              "        [8]]], dtype=int32)>"
            ]
          },
          "metadata": {},
          "execution_count": 42
        }
      ]
    },
    {
      "cell_type": "code",
      "source": [
        "#concat basically appends the matrix into each other\n",
        "t1 = tf.constant([\n",
        "    [1,2,3,4],\n",
        "    [5,6,7,8]\n",
        "])\n",
        "t2 = tf.constant([\n",
        "    [1,2,3,4],\n",
        "    [5,6,7,8]\n",
        "])\n",
        "tf.stack([t1,t2] , axis = 0)"
      ],
      "metadata": {
        "colab": {
          "base_uri": "https://localhost:8080/"
        },
        "id": "HTLYaHnpaEY8",
        "outputId": "de928cea-9578-4430-eb2d-86a72f45e34d"
      },
      "execution_count": 45,
      "outputs": [
        {
          "output_type": "execute_result",
          "data": {
            "text/plain": [
              "<tf.Tensor: shape=(2, 2, 4), dtype=int32, numpy=\n",
              "array([[[1, 2, 3, 4],\n",
              "        [5, 6, 7, 8]],\n",
              "\n",
              "       [[1, 2, 3, 4],\n",
              "        [5, 6, 7, 8]]], dtype=int32)>"
            ]
          },
          "metadata": {},
          "execution_count": 45
        }
      ]
    },
    {
      "cell_type": "code",
      "source": [
        "tensor_two_d = [\n",
        "    [1,2,0],\n",
        "    [2,],\n",
        "    [3,2,1]\n",
        "]\n",
        "print(tensor_two_d)\n",
        "tensor_ragged = tf.ragged.constant(tensor_two_d)\n",
        "print(tensor_ragged.shape)\n",
        "print(tensor_ragged)"
      ],
      "metadata": {
        "colab": {
          "base_uri": "https://localhost:8080/"
        },
        "id": "XcF-Bzi_aEcF",
        "outputId": "cae93229-fbf4-46f0-eb33-71d48186eb55"
      },
      "execution_count": 50,
      "outputs": [
        {
          "output_type": "stream",
          "name": "stdout",
          "text": [
            "[[1, 2, 0], [2], [3, 2, 1]]\n",
            "(3, None)\n",
            "<tf.RaggedTensor [[1, 2, 0], [2], [3, 2, 1]]>\n"
          ]
        }
      ]
    },
    {
      "cell_type": "code",
      "source": [
        "#print(tf.RaggedTensor.from_row_lengths(\n",
        "    #values = [3,1,4,1,5,9,0,2,1],\n",
        "    #row_lengths=[2,1,0,3,4]\n",
        "#))\n",
        "#tensor_spars = tf.sparse.SparseTensor(\n",
        "   # indices = [[1,1] , [3,4]] , values = [11,56] , dense_shape = [ 5,6]\n",
        "#)\n",
        "\n",
        "#print(tensor_spars)"
      ],
      "metadata": {
        "id": "FlsiaCpQaEf_"
      },
      "execution_count": 59,
      "outputs": []
    },
    {
      "cell_type": "code",
      "source": [
        "tensor_string = tf.constant([\n",
        "    \"hello \" , \"i am\"\n",
        "])\n",
        "print(tensor_string)"
      ],
      "metadata": {
        "colab": {
          "base_uri": "https://localhost:8080/"
        },
        "id": "UQlfoy0t9QOS",
        "outputId": "1134ca6d-69ef-4492-af5c-24c57e802024"
      },
      "execution_count": 52,
      "outputs": [
        {
          "output_type": "stream",
          "name": "stdout",
          "text": [
            "tf.Tensor([b'hello ' b'i am'], shape=(2,), dtype=string)\n"
          ]
        }
      ]
    },
    {
      "cell_type": "code",
      "source": [
        "tf.strings.join(tensor_string , separator = \"+\")"
      ],
      "metadata": {
        "colab": {
          "base_uri": "https://localhost:8080/"
        },
        "id": "HuW0LPyn9QXJ",
        "outputId": "a638fb76-99f9-4e10-b273-79349fecbf48"
      },
      "execution_count": 57,
      "outputs": [
        {
          "output_type": "execute_result",
          "data": {
            "text/plain": [
              "<tf.Tensor: shape=(), dtype=string, numpy=b'hello +i am'>"
            ]
          },
          "metadata": {},
          "execution_count": 57
        }
      ]
    },
    {
      "cell_type": "code",
      "source": [
        "Variables"
      ],
      "metadata": {
        "id": "wkqwTJ2o9sTb"
      },
      "execution_count": null,
      "outputs": []
    },
    {
      "cell_type": "code",
      "source": [
        "x_var = tf.Variable(x , name = 'var1')\n",
        "print(x_var)"
      ],
      "metadata": {
        "colab": {
          "base_uri": "https://localhost:8080/"
        },
        "id": "KyToac8N9sck",
        "outputId": "bff6a6db-d089-4c5a-892b-3e5456ca2261"
      },
      "execution_count": 58,
      "outputs": [
        {
          "output_type": "stream",
          "name": "stdout",
          "text": [
            "<tf.Variable 'var1:0' shape=(2, 3) dtype=int32, numpy=\n",
            "array([[1, 2, 3],\n",
            "       [4, 5, 6]], dtype=int32)>\n"
          ]
        }
      ]
    },
    {
      "cell_type": "code",
      "source": [
        "with tf.device('GPU:0'):\n",
        "  x_var1 = tf.Variable(0.2)\n",
        "print(x_var1)"
      ],
      "metadata": {
        "colab": {
          "base_uri": "https://localhost:8080/"
        },
        "id": "JbPUorBV9sgr",
        "outputId": "cfd9fc76-447c-4588-9414-c927c2bc8f48"
      },
      "execution_count": 64,
      "outputs": [
        {
          "output_type": "stream",
          "name": "stdout",
          "text": [
            "<tf.Variable 'Variable:0' shape=() dtype=float32, numpy=0.2>\n"
          ]
        }
      ]
    },
    {
      "cell_type": "code",
      "source": [
        "with tf.device('CPU:0'):\n",
        "  x_var2 = tf.Variable(0.2)\n",
        "print(x_var2)"
      ],
      "metadata": {
        "colab": {
          "base_uri": "https://localhost:8080/"
        },
        "id": "5E_URF-L9slH",
        "outputId": "c95dba41-8001-4624-83f0-ddd1c596ce0c"
      },
      "execution_count": 63,
      "outputs": [
        {
          "output_type": "stream",
          "name": "stdout",
          "text": [
            "<tf.Variable 'Variable:0' shape=() dtype=float32, numpy=0.2>\n"
          ]
        }
      ]
    },
    {
      "cell_type": "code",
      "source": [],
      "metadata": {
        "id": "ljbC-K969sow"
      },
      "execution_count": null,
      "outputs": []
    },
    {
      "cell_type": "code",
      "source": [],
      "metadata": {
        "id": "pPSJiWwV9ssd"
      },
      "execution_count": null,
      "outputs": []
    }
  ]
}