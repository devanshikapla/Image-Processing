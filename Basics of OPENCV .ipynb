{
 "cells": [
  {
   "cell_type": "code",
   "execution_count": 4,
   "id": "320982ce",
   "metadata": {},
   "outputs": [],
   "source": [
    "import cv2"
   ]
  },
  {
   "cell_type": "code",
   "execution_count": 5,
   "id": "e35e5cbb",
   "metadata": {},
   "outputs": [
    {
     "data": {
      "text/plain": [
       "-1"
      ]
     },
     "execution_count": 5,
     "metadata": {},
     "output_type": "execute_result"
    }
   ],
   "source": [
    "# reading image in open cv\n",
    "img = cv2.imread('/Users/oro/Downloads/cat_large.jpg')\n",
    "def rescale(frame , scale=0.75):\n",
    "    width = int(frame.shape[1] * scale)\n",
    "    height = int(frame.shape[0] * scale)\n",
    "    dimensions = (width , height)\n",
    "    return cv.resize(frame , dimension , interpolation = cv.INTER_AREA)\n",
    "cv2.imshow('devanshi' , img)\n",
    "cv2.waitKey(9)"
   ]
  },
  {
   "cell_type": "code",
   "execution_count": 3,
   "id": "4d395df8",
   "metadata": {},
   "outputs": [
    {
     "ename": "error",
     "evalue": "OpenCV(4.8.0) /Users/runner/work/opencv-python/opencv-python/opencv/modules/highgui/src/window.cpp:971: error: (-215:Assertion failed) size.width>0 && size.height>0 in function 'imshow'\n",
     "output_type": "error",
     "traceback": [
      "\u001b[0;31m---------------------------------------------------------------------------\u001b[0m",
      "\u001b[0;31merror\u001b[0m                                     Traceback (most recent call last)",
      "Cell \u001b[0;32mIn[3], line 5\u001b[0m\n\u001b[1;32m      3\u001b[0m \u001b[38;5;28;01mwhile\u001b[39;00m \u001b[38;5;28;01mTrue\u001b[39;00m :\n\u001b[1;32m      4\u001b[0m     isTrue , frame \u001b[38;5;241m=\u001b[39m capture\u001b[38;5;241m.\u001b[39mread()\n\u001b[0;32m----> 5\u001b[0m     \u001b[43mcv2\u001b[49m\u001b[38;5;241;43m.\u001b[39;49m\u001b[43mimshow\u001b[49m\u001b[43m(\u001b[49m\u001b[38;5;124;43m'\u001b[39;49m\u001b[38;5;124;43mVideo\u001b[39;49m\u001b[38;5;124;43m'\u001b[39;49m\u001b[43m \u001b[49m\u001b[43m,\u001b[49m\u001b[43m \u001b[49m\u001b[43mframe\u001b[49m\u001b[43m)\u001b[49m\n\u001b[1;32m      6\u001b[0m     \u001b[38;5;28;01mif\u001b[39;00m(cv2\u001b[38;5;241m.\u001b[39mwaitKey(\u001b[38;5;241m20\u001b[39m) \u001b[38;5;241m&\u001b[39m \u001b[38;5;241m0xFF\u001b[39m \u001b[38;5;241m==\u001b[39m \u001b[38;5;28mord\u001b[39m(\u001b[38;5;124m'\u001b[39m\u001b[38;5;124md\u001b[39m\u001b[38;5;124m'\u001b[39m)):\n\u001b[1;32m      7\u001b[0m         \u001b[38;5;28;01mbreak\u001b[39;00m\n",
      "\u001b[0;31merror\u001b[0m: OpenCV(4.8.0) /Users/runner/work/opencv-python/opencv-python/opencv/modules/highgui/src/window.cpp:971: error: (-215:Assertion failed) size.width>0 && size.height>0 in function 'imshow'\n"
     ]
    }
   ],
   "source": [
    "#reading video in open cv\n",
    "capture = cv2.VideoCapture('/Users/oro/Downloads/dog.mp4') #this method takes integer arguments or a path to the video file\n",
    "while True :\n",
    "    isTrue , frame = capture.read()\n",
    "    cv2.imshow('Video' , frame)\n",
    "    if(cv2.waitKey(20) & 0xFF == ord('d')):\n",
    "        break\n",
    "capture.release()\n",
    "cv2.destroyAllWindows()\n",
    "cv2.waitKey(0)\n",
    "\n",
    "#-215 Assertion error specifies that video ran out of frames open cv couldnt find more frames to be displayed\n",
    "\n",
    "    "
   ]
  },
  {
   "cell_type": "code",
   "execution_count": null,
   "id": "500697b1",
   "metadata": {},
   "outputs": [],
   "source": [
    "#resizing and rescale frames in cv2 implies modify size of the frame\n",
    "def changeRes(width , height ):\n",
    "    capture.set(3 , width)\n",
    "    capture.set(4, height)\n"
   ]
  },
  {
   "cell_type": "code",
   "execution_count": 1,
   "id": "251dea14",
   "metadata": {},
   "outputs": [],
   "source": [
    "import cv2 as cv\n",
    "import numpy as np"
   ]
  },
  {
   "cell_type": "code",
   "execution_count": null,
   "id": "e3fc6646",
   "metadata": {},
   "outputs": [],
   "source": [
    "img = cv.imread('/Users/oro/Downloads/cat_large.jpg')\n",
    "blank = np.zeros((500,500 , 3) , dtype = 'uint8')\n",
    "#cv.imshow('Blank' , blank)\n",
    "#cv.imshow('Cat' , img)\n",
    "\n",
    "\n",
    "#paint the image to a certain color\n",
    "\n",
    "blank[:] = 0 , 255, 0 \n",
    "cv.rectangle(blank , (0,0) , (250 , 500) , (0,250,0), thickness = 2)\n",
    "cv.imshow('Rectangle' , blank)\n",
    "cv.imshow('Green' , blank)\n",
    "cv.waitKey(0)"
   ]
  },
  {
   "cell_type": "code",
   "execution_count": null,
   "id": "a729f332",
   "metadata": {},
   "outputs": [],
   "source": [
    "#Draw a circle\n",
    "import cv2 as cv\n",
    "import numpy as np\n",
    "\n",
    "blank = np.zeros((500,500,3), dtype='uint8')\n",
    "cv.imshow('Blank', blank)\n",
    "\n",
    "# 1. Paint the image a certain colour\n",
    "blank[200:300, 300:400] = 0,0,255\n",
    "cv.imshow('Green', blank)\n",
    "\n",
    "# # 2. Draw a Rectangle\n",
    "# cv.rectangle(blank, (0,0), (blank.shape[1]//2, blank.shape[0]//2), (0,255,0), thickness=-1)\n",
    "# cv.imshow('Rectangle', blank)\n",
    "\n",
    "# 3. Draw A circle\n",
    "cv.circle(blank, (blank.shape[1]//2, blank.shape[0]//2), 40, (0,0,255), thickness=-1)\n",
    "cv.imshow('Circle', blank)\n",
    "cv.waitKey(0)\n"
   ]
  },
  {
   "cell_type": "code",
   "execution_count": null,
   "id": "5279e801",
   "metadata": {},
   "outputs": [],
   "source": [
    "#draw a line\n",
    "blank = np.zeros((500,500,3), dtype='uint8')\n",
    "cv.line(blank , (0,0) , (blank.shape[1]//2, blank.shape[0]//2) , (255, 255,255))\n",
    "\n",
    "cv.imshow('Line' , blank)\n",
    "cv.waitKey(0)"
   ]
  },
  {
   "cell_type": "code",
   "execution_count": null,
   "id": "92d91c19",
   "metadata": {},
   "outputs": [],
   "source": [
    "cv.putText(blank , 'Hello' , (255,255) , cv.FONT_HERSHEY_TRIPLEX , 1.0 , (0,255,0) , 2)\n",
    "\n"
   ]
  },
  {
   "cell_type": "code",
   "execution_count": null,
   "id": "3788b7c6",
   "metadata": {},
   "outputs": [],
   "source": [
    "import cv2 as cv\n",
    "img = cv.imread('/Users/oro/Downloads/cat_large.jpg')\n",
    "#BGR to GRAY SCALE CONVERSION\n",
    "\n",
    "\n",
    "cv.imshow('Cat' , img)\n",
    "#cvtColor. takes two parameters 1 is img and other is color code\n",
    "gray = cv.cvtColor(img , cv.COLOR_BGR2GRAY)\n",
    "cv.imshow('Gray' , gray)\n",
    "cv.waitKey(0)"
   ]
  },
  {
   "cell_type": "code",
   "execution_count": null,
   "id": "c0dbcd05",
   "metadata": {},
   "outputs": [],
   "source": [
    "#blur \n",
    "import cv2 as cv\n",
    "img = cv.imread('/Users/oro/Downloads/cat_large.jpg')\n",
    "\n",
    "# we are going to use gausian blur filter\n",
    "#blur = cv.GaussianBlur(img , (7,7) , cv.BORDER_DEFAULT)\n",
    "#cv.imshow('BLUR' , blur)\n",
    "cany  = cv.Canny(img , 125 , 175)\n",
    "cv.imshow('Canny edges', cany)\n",
    "cv.waitKey(0)"
   ]
  },
  {
   "cell_type": "code",
   "execution_count": null,
   "id": "6e7c4fa8",
   "metadata": {},
   "outputs": [],
   "source": [
    "#edge cascades\n",
    "cany  = cv.Canny(img , 125 , 175)\n",
    "cv.imshow('Canny edges', cany)\n",
    "cv.waitKey(0)"
   ]
  },
  {
   "cell_type": "code",
   "execution_count": null,
   "id": "9021beba",
   "metadata": {},
   "outputs": [],
   "source": [
    "#dilating the image\n",
    "\n",
    "dilated = cv.dilate(cany , (7,7) , iterations = 1)\n",
    "\n"
   ]
  },
  {
   "cell_type": "code",
   "execution_count": null,
   "id": "90b661df",
   "metadata": {},
   "outputs": [],
   "source": [
    "#eroding the dilated image and get back the structural element\n",
    "eroded = cv.erode(dilated , (3,3) , iterations = 1)\n",
    "cv.imshow('eroded ' , eroded)"
   ]
  },
  {
   "cell_type": "code",
   "execution_count": null,
   "id": "7023dfd4",
   "metadata": {},
   "outputs": [],
   "source": [
    "#resizing the cropped image\n",
    "resized = cv.resize(img , (500 , 500))\n",
    "cv.imshow('resized' , resized)\n",
    "#interpolation method is used to scale an image to the lower than original dimentions\n",
    "#cv.INTER_AREA shrinking an image\n",
    "#INTER_CUBIC , INTER_LINEAR to enlarge the image\n",
    "#CUBIC is slowest amongst all\n",
    "cropped = img(50:200 , 200 : 40) # as images are in the form of pixels which are stored in 2D matrix so cropping can be done by slicing the array\n",
    "\n",
    "\n"
   ]
  },
  {
   "cell_type": "code",
   "execution_count": null,
   "id": "3b73e40b",
   "metadata": {},
   "outputs": [],
   "source": [
    "#image transformation\n",
    "import cv2 as cv\n",
    "import numpy as np\n",
    "img = cv.imread('/Users/oro/Downloads/cat_large.jpg')\n",
    "\n",
    "cv.imshow('img' , img)\n",
    "\n",
    "#Translation\n",
    "#using translation you can shift the image up , down or any combination along X and Y axis\n",
    "#x and y states x and y component for shifting along x and y axis\n",
    "\n",
    "def translate(img, x, y):\n",
    "    transMat = np.float32([[1,0,x],[0,1,y]])\n",
    "    dimensions = (img.shape[1], img.shape[0])\n",
    "    return cv.warpAffine(img, transMat, dimensions)\n",
    "\n",
    "#-x -> left\n",
    "#-y -> up\n",
    "#x -> right\n",
    "#y -> Down\n",
    "\n",
    "translated = translate(img , 100,100)\n",
    "cv.imshow('translated' , translated)\n",
    "\n",
    "cv.waitKey(0)"
   ]
  },
  {
   "cell_type": "code",
   "execution_count": null,
   "id": "1a5682a8",
   "metadata": {},
   "outputs": [],
   "source": [
    "import cv2 as cv\n",
    "import numpy as np\n",
    "img = cv.imread('/Users/oro/Downloads/cat_large.jpg')\n",
    "\n",
    "cv.imshow('img' , img)\n",
    "\n",
    "#Translation\n",
    "#using translation you can shift the image up , down or any combination along X and Y axis\n",
    "#x and y states x and y component for shifting along x and y axis\n",
    "\n",
    "def translate(img, x, y):\n",
    "    transMat = np.float32([[1,0,x],[0,1,y]])\n",
    "    dimensions = (img.shape[1], img.shape[0])\n",
    "    return cv.warpAffine(img, transMat, dimensions)\n",
    "\n",
    "#-x -> left\n",
    "#-y -> up\n",
    "#x -> right\n",
    "#y -> Down\n",
    "\n",
    "translated = translate(img , -100, -100)\n",
    "cv.imshow('translated' , translated)\n",
    "\n",
    "cv.waitKey(0)"
   ]
  },
  {
   "cell_type": "code",
   "execution_count": null,
   "id": "c66dbe1e",
   "metadata": {},
   "outputs": [],
   "source": [
    "#rotation\n",
    "#rotating an image by some angle\n",
    "import cv2 as cv\n",
    "img = cv.imread('/Users/oro/Downloads/cat_large.jpg')\n",
    "def rotate(img , angle , rotPoint = None):\n",
    "    (height , width) = img.shape[:2]\n",
    "    if rotPoint is None:\n",
    "        rotPoint = (width // 2 , height // 2)\n",
    "    rotMat = cv.getRotationMatrix2D(rotPoint , angle , 1.0)\n",
    "    dimensions = (width,height)\n",
    "    return cv.warpAffine(img, rotMat, dimensions)\n",
    "\n",
    "rotated = rotate(img , 45)\n",
    "cv.waitKey(0)\n",
    "\n",
    "# By default this will rotate an image to 45 degrees anti clockwise\n",
    "#to rotate in clockwise we have to give a negative sign"
   ]
  },
  {
   "cell_type": "code",
   "execution_count": null,
   "id": "d25f44bc",
   "metadata": {},
   "outputs": [],
   "source": [
    "#Flipping an image\n",
    "#flipcode can be 0,1,-1 \n",
    "#0 for x axis vertically\n",
    "#1 for y axis horizontly \n",
    "#-1 for both x and y axis\n",
    "\n",
    "flip = cv.flip(img, -1)\n",
    "cv.imshow('flip' , flip)"
   ]
  },
  {
   "cell_type": "code",
   "execution_count": null,
   "id": "63bfacca",
   "metadata": {},
   "outputs": [
    {
     "name": "stdout",
     "output_type": "stream",
     "text": [
      "8472 contour(s) found!\n"
     ]
    }
   ],
   "source": [
    "#Contour detection\n",
    "\n",
    "import cv2 as cv\n",
    "img = cv.imread('/Users/oro/Downloads/cat_large.jpg')\n",
    "gray = cv.cvtColor(img , cv.COLOR_BGR2GRAY)\n",
    "cv.imshow('Gray' , gray)\n",
    "canny = cv.Canny(img , 125 , 175)\n",
    "cv.imshow('canny' , canny)\n",
    "cv.imshow('img' , img)\n",
    "\n",
    "\n",
    "contours , hierarchies = cv.findContours(canny , cv.RETR_LIST , cv.CHAIN_APPROX_NONE)\n",
    "#retr_external reterives external contours\n",
    "#retr_tree reterives hierarchial contours\n",
    "#chain_approx_simple \n",
    "print(f'{len(contours)} contour(s) found!')\n",
    "\n",
    "cv.waitKey(0)\n"
   ]
  },
  {
   "cell_type": "code",
   "execution_count": null,
   "id": "0451bbab",
   "metadata": {},
   "outputs": [
    {
     "name": "stdout",
     "output_type": "stream",
     "text": [
      "533 contour(s) found!\n"
     ]
    }
   ],
   "source": [
    "import cv2 as cv\n",
    "import numpy as np\n",
    "\n",
    "img = cv.imread('/Users/oro/Downloads/cat_large.jpg')\n",
    "cv.imshow('Cats', img)\n",
    "\n",
    "blank = np.zeros(img.shape, dtype='uint8')\n",
    "cv.imshow('Blank', blank)\n",
    "\n",
    "gray = cv.cvtColor(img, cv.COLOR_BGR2GRAY)\n",
    "cv.imshow('Gray', gray)\n",
    "\n",
    "blur = cv.GaussianBlur(gray, (5,5), cv.BORDER_DEFAULT)\n",
    "cv.imshow('Blur', blur)\n",
    "\n",
    "canny = cv.Canny(blur, 125, 175)\n",
    "cv.imshow('Canny Edges', canny)\n",
    "\n",
    "# ret, thresh = cv.threshold(gray, 125, 255, cv.THRESH_BINARY)\n",
    "# cv.imshow('Thresh', thresh)\n",
    "\n",
    "contours, hierarchies = cv.findContours(canny, cv.RETR_LIST, cv.CHAIN_APPROX_SIMPLE)\n",
    "print(f'{len(contours)} contour(s) found!')\n",
    "\n",
    "cv.drawContours(blank, contours, -1, (0,0,255), 1)\n",
    "cv.imshow('Contours Drawn', blank)\n",
    "\n",
    "cv.waitKey(0)"
   ]
  },
  {
   "cell_type": "code",
   "execution_count": null,
   "id": "9dbcdc1c",
   "metadata": {},
   "outputs": [],
   "source": []
  }
 ],
 "metadata": {
  "kernelspec": {
   "display_name": "Python 3 (ipykernel)",
   "language": "python",
   "name": "python3"
  },
  "language_info": {
   "codemirror_mode": {
    "name": "ipython",
    "version": 3
   },
   "file_extension": ".py",
   "mimetype": "text/x-python",
   "name": "python",
   "nbconvert_exporter": "python",
   "pygments_lexer": "ipython3",
   "version": "3.10.9"
  }
 },
 "nbformat": 4,
 "nbformat_minor": 5
}
